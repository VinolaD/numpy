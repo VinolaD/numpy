{
  "nbformat": 4,
  "nbformat_minor": 0,
  "metadata": {
    "colab": {
      "provenance": []
    },
    "kernelspec": {
      "name": "python3",
      "display_name": "Python 3"
    },
    "language_info": {
      "name": "python"
    }
  },
  "cells": [
    {
      "cell_type": "markdown",
      "source": [
        "#06/08/2024"
      ],
      "metadata": {
        "id": "l6c6ENUaFA_C"
      }
    },
    {
      "cell_type": "code",
      "execution_count": 1,
      "metadata": {
        "id": "tNDcqNEVE9BO"
      },
      "outputs": [],
      "source": [
        "import numpy as np"
      ]
    },
    {
      "cell_type": "code",
      "source": [
        "v=np.ones(10)\n",
        "v"
      ],
      "metadata": {
        "colab": {
          "base_uri": "https://localhost:8080/"
        },
        "id": "72P89sH6Gut5",
        "outputId": "cef847d5-7bfe-49db-f787-2f6bc8951aa7"
      },
      "execution_count": 2,
      "outputs": [
        {
          "output_type": "execute_result",
          "data": {
            "text/plain": [
              "array([1., 1., 1., 1., 1., 1., 1., 1., 1., 1.])"
            ]
          },
          "metadata": {},
          "execution_count": 2
        }
      ]
    },
    {
      "cell_type": "code",
      "source": [
        "d=np.zeros(9)\n",
        "d"
      ],
      "metadata": {
        "colab": {
          "base_uri": "https://localhost:8080/"
        },
        "id": "B1RhVmf8HCWe",
        "outputId": "4bd7fb97-8cf1-49e9-c4da-308cd59d0920"
      },
      "execution_count": 3,
      "outputs": [
        {
          "output_type": "execute_result",
          "data": {
            "text/plain": [
              "array([0., 0., 0., 0., 0., 0., 0., 0., 0.])"
            ]
          },
          "metadata": {},
          "execution_count": 3
        }
      ]
    },
    {
      "cell_type": "code",
      "source": [
        "v.size"
      ],
      "metadata": {
        "colab": {
          "base_uri": "https://localhost:8080/"
        },
        "id": "z5kZ_aTvHH5w",
        "outputId": "c2bdc682-0dcf-4f35-9caa-b29ab347ba0a"
      },
      "execution_count": 4,
      "outputs": [
        {
          "output_type": "execute_result",
          "data": {
            "text/plain": [
              "10"
            ]
          },
          "metadata": {},
          "execution_count": 4
        }
      ]
    },
    {
      "cell_type": "code",
      "source": [
        "type(v)"
      ],
      "metadata": {
        "colab": {
          "base_uri": "https://localhost:8080/"
        },
        "id": "qyAl4s8iHmo-",
        "outputId": "f1eefe6b-8262-418a-860e-b85d44ef4b3d"
      },
      "execution_count": 5,
      "outputs": [
        {
          "output_type": "execute_result",
          "data": {
            "text/plain": [
              "numpy.ndarray"
            ]
          },
          "metadata": {},
          "execution_count": 5
        }
      ]
    },
    {
      "cell_type": "code",
      "source": [
        "v.itemsize"
      ],
      "metadata": {
        "colab": {
          "base_uri": "https://localhost:8080/"
        },
        "id": "pgCI66SOHqen",
        "outputId": "f122396d-9d6b-444b-9b6d-c16051a34770"
      },
      "execution_count": 6,
      "outputs": [
        {
          "output_type": "execute_result",
          "data": {
            "text/plain": [
              "8"
            ]
          },
          "metadata": {},
          "execution_count": 6
        }
      ]
    },
    {
      "cell_type": "code",
      "source": [
        "v.shape"
      ],
      "metadata": {
        "colab": {
          "base_uri": "https://localhost:8080/"
        },
        "id": "Fkl6T9EdHMdI",
        "outputId": "7bc83fa5-0633-4cd0-a3f3-8bd2c3a22bd9"
      },
      "execution_count": 7,
      "outputs": [
        {
          "output_type": "execute_result",
          "data": {
            "text/plain": [
              "(10,)"
            ]
          },
          "metadata": {},
          "execution_count": 7
        }
      ]
    },
    {
      "cell_type": "code",
      "source": [
        "v=np.arange(1,15)\n",
        "v"
      ],
      "metadata": {
        "colab": {
          "base_uri": "https://localhost:8080/"
        },
        "id": "3VFkGc6iF1KX",
        "outputId": "32df01d6-df89-46e8-fe82-c39718584227"
      },
      "execution_count": 8,
      "outputs": [
        {
          "output_type": "execute_result",
          "data": {
            "text/plain": [
              "array([ 1,  2,  3,  4,  5,  6,  7,  8,  9, 10, 11, 12, 13, 14])"
            ]
          },
          "metadata": {},
          "execution_count": 8
        }
      ]
    },
    {
      "cell_type": "code",
      "source": [
        "d=v.reshape(2,7)\n",
        "d"
      ],
      "metadata": {
        "colab": {
          "base_uri": "https://localhost:8080/"
        },
        "id": "ZCxwU1dLF7et",
        "outputId": "60449102-52d3-4606-c077-991410a51437"
      },
      "execution_count": 9,
      "outputs": [
        {
          "output_type": "execute_result",
          "data": {
            "text/plain": [
              "array([[ 1,  2,  3,  4,  5,  6,  7],\n",
              "       [ 8,  9, 10, 11, 12, 13, 14]])"
            ]
          },
          "metadata": {},
          "execution_count": 9
        }
      ]
    },
    {
      "cell_type": "code",
      "source": [
        "w=np.arange(0,50,2).reshape(5,5)\n",
        "w"
      ],
      "metadata": {
        "colab": {
          "base_uri": "https://localhost:8080/"
        },
        "id": "VNZVSSl3ikQ1",
        "outputId": "dc8c26aa-b6d7-44fd-8c9d-5b90017326bd"
      },
      "execution_count": 11,
      "outputs": [
        {
          "output_type": "execute_result",
          "data": {
            "text/plain": [
              "array([[ 0,  2,  4,  6,  8],\n",
              "       [10, 12, 14, 16, 18],\n",
              "       [20, 22, 24, 26, 28],\n",
              "       [30, 32, 34, 36, 38],\n",
              "       [40, 42, 44, 46, 48]])"
            ]
          },
          "metadata": {},
          "execution_count": 11
        }
      ]
    },
    {
      "cell_type": "code",
      "source": [
        "e=[1,2,3,4,0,8,9,7,60,0,3,0]\n",
        "r=np.nonzero(e)\n",
        "r"
      ],
      "metadata": {
        "colab": {
          "base_uri": "https://localhost:8080/"
        },
        "id": "VDHeVaZwjCmc",
        "outputId": "a6ce44cf-4d51-4eb9-f225-1b5503ca7e74"
      },
      "execution_count": 12,
      "outputs": [
        {
          "output_type": "execute_result",
          "data": {
            "text/plain": [
              "(array([ 0,  1,  2,  3,  5,  6,  7,  8, 10]),)"
            ]
          },
          "metadata": {},
          "execution_count": 12
        }
      ]
    },
    {
      "cell_type": "code",
      "source": [
        "t=np.eye(4)   #Identity matrix\n",
        "t"
      ],
      "metadata": {
        "colab": {
          "base_uri": "https://localhost:8080/"
        },
        "id": "La6yUwEwjURW",
        "outputId": "22a48447-5ac4-4916-af45-399de52d934c"
      },
      "execution_count": 13,
      "outputs": [
        {
          "output_type": "execute_result",
          "data": {
            "text/plain": [
              "array([[1., 0., 0., 0.],\n",
              "       [0., 1., 0., 0.],\n",
              "       [0., 0., 1., 0.],\n",
              "       [0., 0., 0., 1.]])"
            ]
          },
          "metadata": {},
          "execution_count": 13
        }
      ]
    },
    {
      "cell_type": "code",
      "source": [
        "t=np.diag([9,8,7,6,5,4,32,23,12])\n",
        "t"
      ],
      "metadata": {
        "colab": {
          "base_uri": "https://localhost:8080/"
        },
        "id": "JMtoALcWjjfU",
        "outputId": "2ad41552-304a-426e-88bd-8cf13e13049a"
      },
      "execution_count": 14,
      "outputs": [
        {
          "output_type": "execute_result",
          "data": {
            "text/plain": [
              "array([[ 9,  0,  0,  0,  0,  0,  0,  0,  0],\n",
              "       [ 0,  8,  0,  0,  0,  0,  0,  0,  0],\n",
              "       [ 0,  0,  7,  0,  0,  0,  0,  0,  0],\n",
              "       [ 0,  0,  0,  6,  0,  0,  0,  0,  0],\n",
              "       [ 0,  0,  0,  0,  5,  0,  0,  0,  0],\n",
              "       [ 0,  0,  0,  0,  0,  4,  0,  0,  0],\n",
              "       [ 0,  0,  0,  0,  0,  0, 32,  0,  0],\n",
              "       [ 0,  0,  0,  0,  0,  0,  0, 23,  0],\n",
              "       [ 0,  0,  0,  0,  0,  0,  0,  0, 12]])"
            ]
          },
          "metadata": {},
          "execution_count": 14
        }
      ]
    },
    {
      "cell_type": "code",
      "source": [
        "y=np.fliplr(t)\n",
        "y"
      ],
      "metadata": {
        "colab": {
          "base_uri": "https://localhost:8080/"
        },
        "id": "woVlul7Bj0mg",
        "outputId": "b7ff63f9-3a46-44bd-80f4-d11c40bc6a9f"
      },
      "execution_count": 16,
      "outputs": [
        {
          "output_type": "execute_result",
          "data": {
            "text/plain": [
              "array([[ 0,  0,  0,  0,  0,  0,  0,  0,  9],\n",
              "       [ 0,  0,  0,  0,  0,  0,  0,  8,  0],\n",
              "       [ 0,  0,  0,  0,  0,  0,  7,  0,  0],\n",
              "       [ 0,  0,  0,  0,  0,  6,  0,  0,  0],\n",
              "       [ 0,  0,  0,  0,  5,  0,  0,  0,  0],\n",
              "       [ 0,  0,  0,  4,  0,  0,  0,  0,  0],\n",
              "       [ 0,  0, 32,  0,  0,  0,  0,  0,  0],\n",
              "       [ 0, 23,  0,  0,  0,  0,  0,  0,  0],\n",
              "       [12,  0,  0,  0,  0,  0,  0,  0,  0]])"
            ]
          },
          "metadata": {},
          "execution_count": 16
        }
      ]
    },
    {
      "cell_type": "code",
      "source": [
        "u=np.flipud(y)\n",
        "u"
      ],
      "metadata": {
        "colab": {
          "base_uri": "https://localhost:8080/"
        },
        "id": "XT7aJHmukG9S",
        "outputId": "4d168bd7-3223-426f-a0c7-eead7ffefd7c"
      },
      "execution_count": 17,
      "outputs": [
        {
          "output_type": "execute_result",
          "data": {
            "text/plain": [
              "array([[12,  0,  0,  0,  0,  0,  0,  0,  0],\n",
              "       [ 0, 23,  0,  0,  0,  0,  0,  0,  0],\n",
              "       [ 0,  0, 32,  0,  0,  0,  0,  0,  0],\n",
              "       [ 0,  0,  0,  4,  0,  0,  0,  0,  0],\n",
              "       [ 0,  0,  0,  0,  5,  0,  0,  0,  0],\n",
              "       [ 0,  0,  0,  0,  0,  6,  0,  0,  0],\n",
              "       [ 0,  0,  0,  0,  0,  0,  7,  0,  0],\n",
              "       [ 0,  0,  0,  0,  0,  0,  0,  8,  0],\n",
              "       [ 0,  0,  0,  0,  0,  0,  0,  0,  9]])"
            ]
          },
          "metadata": {},
          "execution_count": 17
        }
      ]
    },
    {
      "cell_type": "code",
      "source": [
        "a=np.diag([1,2,3,4,5,6,7],k=4)\n",
        "a"
      ],
      "metadata": {
        "colab": {
          "base_uri": "https://localhost:8080/"
        },
        "id": "Qk7bL_MZkNqm",
        "outputId": "37f6e641-b1d7-495b-b8d5-96c7a763095c"
      },
      "execution_count": 18,
      "outputs": [
        {
          "output_type": "execute_result",
          "data": {
            "text/plain": [
              "array([[0, 0, 0, 0, 1, 0, 0, 0, 0, 0, 0],\n",
              "       [0, 0, 0, 0, 0, 2, 0, 0, 0, 0, 0],\n",
              "       [0, 0, 0, 0, 0, 0, 3, 0, 0, 0, 0],\n",
              "       [0, 0, 0, 0, 0, 0, 0, 4, 0, 0, 0],\n",
              "       [0, 0, 0, 0, 0, 0, 0, 0, 5, 0, 0],\n",
              "       [0, 0, 0, 0, 0, 0, 0, 0, 0, 6, 0],\n",
              "       [0, 0, 0, 0, 0, 0, 0, 0, 0, 0, 7],\n",
              "       [0, 0, 0, 0, 0, 0, 0, 0, 0, 0, 0],\n",
              "       [0, 0, 0, 0, 0, 0, 0, 0, 0, 0, 0],\n",
              "       [0, 0, 0, 0, 0, 0, 0, 0, 0, 0, 0],\n",
              "       [0, 0, 0, 0, 0, 0, 0, 0, 0, 0, 0]])"
            ]
          },
          "metadata": {},
          "execution_count": 18
        }
      ]
    },
    {
      "cell_type": "code",
      "source": [
        "s=np.random.random(5)\n",
        "s"
      ],
      "metadata": {
        "colab": {
          "base_uri": "https://localhost:8080/"
        },
        "id": "AHVh1eDhkdpm",
        "outputId": "51156a03-4d1f-4239-c512-32cffe268173"
      },
      "execution_count": 19,
      "outputs": [
        {
          "output_type": "execute_result",
          "data": {
            "text/plain": [
              "array([0.85582908, 0.66078499, 0.18247421, 0.34782674, 0.53353524])"
            ]
          },
          "metadata": {},
          "execution_count": 19
        }
      ]
    },
    {
      "cell_type": "code",
      "source": [
        "d=np.random.random(4)*4\n",
        "d"
      ],
      "metadata": {
        "colab": {
          "base_uri": "https://localhost:8080/"
        },
        "id": "3vfD-gtUkoTP",
        "outputId": "4268b224-1faf-4819-dfcc-ebe2824a8d2b"
      },
      "execution_count": 20,
      "outputs": [
        {
          "output_type": "execute_result",
          "data": {
            "text/plain": [
              "array([3.91381862, 1.68818012, 1.41934916, 2.56865305])"
            ]
          },
          "metadata": {},
          "execution_count": 20
        }
      ]
    },
    {
      "cell_type": "code",
      "source": [
        "f=np.random.randint(9)\n",
        "f"
      ],
      "metadata": {
        "colab": {
          "base_uri": "https://localhost:8080/"
        },
        "id": "q-unYdOVk0b0",
        "outputId": "6422d97a-a94f-4d98-e5bf-fdb0d120aa4d"
      },
      "execution_count": 23,
      "outputs": [
        {
          "output_type": "execute_result",
          "data": {
            "text/plain": [
              "3"
            ]
          },
          "metadata": {},
          "execution_count": 23
        }
      ]
    },
    {
      "cell_type": "code",
      "source": [
        "g=np.random.randint(6,size=10)\n",
        "g"
      ],
      "metadata": {
        "colab": {
          "base_uri": "https://localhost:8080/"
        },
        "id": "hUuXz3ORk-eb",
        "outputId": "5790794e-9ca7-4f05-89f4-8385d5a6a058"
      },
      "execution_count": 24,
      "outputs": [
        {
          "output_type": "execute_result",
          "data": {
            "text/plain": [
              "array([2, 5, 5, 1, 0, 2, 1, 4, 3, 0])"
            ]
          },
          "metadata": {},
          "execution_count": 24
        }
      ]
    },
    {
      "cell_type": "code",
      "source": [
        "h=np.linspace(1,5,10)\n",
        "h"
      ],
      "metadata": {
        "colab": {
          "base_uri": "https://localhost:8080/"
        },
        "id": "Gjh0OIy8lLk5",
        "outputId": "75a99a74-a728-48e1-c126-c7a9f40ac8fd"
      },
      "execution_count": 25,
      "outputs": [
        {
          "output_type": "execute_result",
          "data": {
            "text/plain": [
              "array([1.        , 1.44444444, 1.88888889, 2.33333333, 2.77777778,\n",
              "       3.22222222, 3.66666667, 4.11111111, 4.55555556, 5.        ])"
            ]
          },
          "metadata": {},
          "execution_count": 25
        }
      ]
    },
    {
      "cell_type": "code",
      "source": [
        "q=np.arange(21)\n",
        "q"
      ],
      "metadata": {
        "colab": {
          "base_uri": "https://localhost:8080/"
        },
        "id": "qnRgiV7ym6jV",
        "outputId": "2d17d3bb-4e77-481b-e002-9911fe49259b"
      },
      "execution_count": 32,
      "outputs": [
        {
          "output_type": "execute_result",
          "data": {
            "text/plain": [
              "array([ 0,  1,  2,  3,  4,  5,  6,  7,  8,  9, 10, 11, 12, 13, 14, 15, 16,\n",
              "       17, 18, 19, 20])"
            ]
          },
          "metadata": {},
          "execution_count": 32
        }
      ]
    },
    {
      "cell_type": "code",
      "source": [
        "w=np.array_split(q,7)\n",
        "w"
      ],
      "metadata": {
        "colab": {
          "base_uri": "https://localhost:8080/"
        },
        "id": "UzvUVuUonASv",
        "outputId": "fc7d23d9-cc42-439d-827d-79f5c6121d56"
      },
      "execution_count": 33,
      "outputs": [
        {
          "output_type": "execute_result",
          "data": {
            "text/plain": [
              "[array([0, 1, 2]),\n",
              " array([3, 4, 5]),\n",
              " array([6, 7, 8]),\n",
              " array([ 9, 10, 11]),\n",
              " array([12, 13, 14]),\n",
              " array([15, 16, 17]),\n",
              " array([18, 19, 20])]"
            ]
          },
          "metadata": {},
          "execution_count": 33
        }
      ]
    },
    {
      "cell_type": "code",
      "source": [
        "e=np.random.choice([\"dhoni\",\"virat\",\"vijay\",\"leo\",\"gilla\"],size=20)\n",
        "e"
      ],
      "metadata": {
        "colab": {
          "base_uri": "https://localhost:8080/"
        },
        "id": "il6T1MMCnKn8",
        "outputId": "10249d94-7030-428e-dc41-eba3d6eabc2d"
      },
      "execution_count": 35,
      "outputs": [
        {
          "output_type": "execute_result",
          "data": {
            "text/plain": [
              "array(['dhoni', 'gilla', 'dhoni', 'dhoni', 'dhoni', 'leo', 'virat',\n",
              "       'gilla', 'gilla', 'virat', 'vijay', 'leo', 'leo', 'dhoni', 'gilla',\n",
              "       'virat', 'vijay', 'dhoni', 'gilla', 'dhoni'], dtype='<U5')"
            ]
          },
          "metadata": {},
          "execution_count": 35
        }
      ]
    },
    {
      "cell_type": "code",
      "source": [
        "a=np.random.choice([\"dhoni\",\"virat\",\"vijay\",\"leo\",\"gilla\"],size=20,p=[0.5,0.15,0.05,0.15,0.15])\n",
        "a"
      ],
      "metadata": {
        "colab": {
          "base_uri": "https://localhost:8080/"
        },
        "id": "7bdPfeYvnie7",
        "outputId": "94dc5dd8-8e79-4e9f-d380-222f148de567"
      },
      "execution_count": 37,
      "outputs": [
        {
          "output_type": "execute_result",
          "data": {
            "text/plain": [
              "array(['dhoni', 'dhoni', 'dhoni', 'dhoni', 'dhoni', 'leo', 'dhoni', 'leo',\n",
              "       'virat', 'dhoni', 'leo', 'leo', 'dhoni', 'dhoni', 'dhoni', 'dhoni',\n",
              "       'leo', 'dhoni', 'dhoni', 'leo'], dtype='<U5')"
            ]
          },
          "metadata": {},
          "execution_count": 37
        }
      ]
    },
    {
      "cell_type": "code",
      "source": [
        "np.random.shuffle(a)\n",
        "a"
      ],
      "metadata": {
        "colab": {
          "base_uri": "https://localhost:8080/"
        },
        "id": "qJJpW85ZoW6y",
        "outputId": "40118b5f-8b3a-432a-bcbe-d26ade50f2a4"
      },
      "execution_count": 40,
      "outputs": [
        {
          "output_type": "execute_result",
          "data": {
            "text/plain": [
              "array(['dhoni', 'leo', 'leo', 'dhoni', 'dhoni', 'leo', 'dhoni', 'dhoni',\n",
              "       'dhoni', 'dhoni', 'virat', 'leo', 'dhoni', 'dhoni', 'leo', 'leo',\n",
              "       'dhoni', 'dhoni', 'dhoni', 'dhoni'], dtype='<U5')"
            ]
          },
          "metadata": {},
          "execution_count": 40
        }
      ]
    },
    {
      "cell_type": "code",
      "source": [],
      "metadata": {
        "id": "AfXhTUtPons3"
      },
      "execution_count": null,
      "outputs": []
    }
  ]
}